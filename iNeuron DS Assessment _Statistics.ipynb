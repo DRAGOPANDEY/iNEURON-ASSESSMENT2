{
 "cells": [
  {
   "cell_type": "markdown",
   "id": "dfe26377",
   "metadata": {},
   "source": [
    "# __Question: 1__\n",
    "\n",
    " What is the meaning of six sigma in statistics?  Give proper example"
   ]
  },
  {
   "cell_type": "markdown",
   "id": "573ad321",
   "metadata": {},
   "source": [
    "__Ans:__ Imagine you have a dataset where you have different Instagram features like u sername , Caption , Hashtag , Followers , Time_Since_posted , and likes , now your task is to predict the number of likes and Time Since posted and the rest of the features are your input features. Now you have to build a model which can predict the number of likes and Time Since posted.\n",
    "\n",
    "The Six Sigma methodology is often represented by the DMAIC cycle, which stands for Define, Measure, Analyze, Improve, and Control. Let's break down each phase with an example:\n",
    "\n",
    "__1.Define:__\n",
    "\n",
    "Identify the problem or opportunity for improvement.\n",
    "Define the project scope, goals, and deliverables.\n",
    "Example: A manufacturing company notices an increase in defects in their product, leading to customer complaints. The goal is to reduce defects and improve customer satisfaction.\n",
    "\n",
    "__2.Measure:__\n",
    "\n",
    "Quantify the current process performance.\n",
    "Collect relevant data to understand the existing variability.\n",
    "Example: Measure the defect rate by collecting data on the number of defects per batch produced over a specific period.\n",
    "\n",
    "__3.Analyze:__\n",
    "\n",
    "Identify the root causes of defects and process variation.\n",
    "Use statistical tools to analyze data and pinpoint areas for improvement.\n",
    "Example: Conduct a root cause analysis to determine factors contributing to defects, such as machine malfunctions, operator errors, or raw material issues.\n",
    "\n",
    "__4.Improve:__\n",
    "\n",
    "Develop and implement solutions to address the identified issues.\n",
    "Optimize the process to reduce variation and defects.\n",
    "Example: Implement changes, such as upgrading equipment, providing additional training to operators, and refining quality control procedures to reduce defects.\n",
    "\n",
    "__5.Control:__\n",
    "\n",
    "Establish control mechanisms to sustain the improvements.\n",
    "Monitor the process to ensure continued adherence to quality standards.\n",
    "Example: Implement regular quality checks, establish standard operating procedures, and train staff to maintain the improved process and prevent regression.\n"
   ]
  },
  {
   "cell_type": "markdown",
   "id": "2457288b",
   "metadata": {},
   "source": [
    "# __Question: 2__\n",
    "\n",
    "What type of data does not have a log-normal distribution or a Gaussian distribution?  Give proper example"
   ]
  },
  {
   "cell_type": "markdown",
   "id": "28a33f44",
   "metadata": {},
   "source": [
    "__Ans:__\n",
    "log-normal distribution or a Gaussian (normal) distribution. Some examples of data that do not have a log-normal or Gaussian distribution include:\n",
    "\n",
    "__1.Poisson Distribution:__\n",
    "\n",
    "Poisson-distributed data represents the number of events occurring in fixed intervals of time or space.\n",
    "Example: The number of phone calls received at a call center in a minute.\n",
    "    \n",
    "__2.Exponential Distribution:__\n",
    "\n",
    "Exponential-distributed data represents the time between events in a Poisson process (a process with a constant rate of events occurring independently).\n",
    "Example: The time between arrivals of customers at a service point.\n",
    "    \n",
    "__3.Uniform Distribution:__\n",
    "\n",
    "Uniformly distributed data has an equal probability of falling within any given range.\n",
    "Example: Rolling a fair six-sided die, where each number has an equal chance of occurring.\n",
    "    \n",
    "__4.Binomial Distribution:__\n",
    "\n",
    "Binomial-distributed data represents the number of successes in a fixed number of independent Bernoulli trials (binary outcomes).\n",
    "Example: The number of heads obtained when flipping a coin three times.\n",
    "    \n",
    "__5.Cauchy Distribution:__\n",
    "\n",
    "The Cauchy distribution has heavy tails and does not possess a defined mean or variance.\n",
    "Example: Cauchy distributions are observed in physics, such as resonance phenomena.\n",
    "    \n",
    "__6.Power Law Distribution:__\n",
    "\n",
    "Power law-distributed data exhibits a relationship where a small number of items have very high values, while the majority have low values.\n",
    "Example: The distribution of city populations, where a few cities are very populous, and most are small."
   ]
  },
  {
   "cell_type": "markdown",
   "id": "c9106f8f",
   "metadata": {},
   "source": [
    "# Question: 3\n",
    "\n",
    "What is the meaning of the five-number summary in Statistics? Give proper example"
   ]
  },
  {
   "cell_type": "markdown",
   "id": "63d17eb0",
   "metadata": {},
   "source": [
    "\n",
    "The five-number summary is a descriptive statistic that provides a concise summary of the distribution of a dataset. It consists of five values: the minimum, the first quartile (Q1), the median (Q2), the third quartile (Q3), and the maximum. These values help to understand the central tendency, spread, and skewness of a dataset.<br>\n",
    "\n",
    "Here's what each term in the five-number summary represents:<br>\n",
    "\n",
    "Minimum (Min): The smallest value in the dataset.<br>\n",
    "First Quartile (Q1): The value below which 25% of the data falls. It is the median of the lower half of the dataset.<br>\n",
    "Median (Q2): The middle value of the dataset. Also known as the second quartile, it divides the dataset into two equal halves.<br>\n",
    "Third Quartile (Q3): The value below which 75% of the data falls. It is the median of the upper half of the dataset.<br>\n",
    "Maximum (Max): The largest value in the dataset.<br>"
   ]
  },
  {
   "cell_type": "markdown",
   "id": "26a8fa81",
   "metadata": {},
   "source": [
    "Examples with the following dataset:<br>\n",
    "\n",
    "__7,12,15,18,21,23,26,29,32,37__<br>\n",
    "\n",
    "__1.Minimum (Min):__ 7<br>\n",
    "__2.First Quartile (Q1):__ The median of the lower half {7,12,15,18,21} is 15.<br>\n",
    "__3.Median (Q2):__ The middle value is 21.<br>\n",
    "__4.Third Quartile (Q3):__ The median of the upper half {23,26,29,32,37} is 29.<br>\n",
    "__5.Maximum (Max):__ 37<br>\n",
    "\n",
    "So, the five-number summary for this dataset is 7,15,21,29,37. It provides a quick snapshot of the distribution and can be used to identify skewness and outliers in the data<br>"
   ]
  },
  {
   "cell_type": "markdown",
   "id": "a17a8fd9",
   "metadata": {},
   "source": [
    "# Question: 4\n",
    "\n",
    "\n",
    "What is correlation? Give an example with a dataset & graphical representation on jupyter Notebook\n"
   ]
  },
  {
   "cell_type": "markdown",
   "id": "b013f069",
   "metadata": {},
   "source": [
    "__Ans__:\n",
    "    \n",
    "Correlation is a statistical measure that quantifies the degree to which two variables change together. In other words, it indicates whether and how much two variables are related.<br> The correlation coefficient is a number between -1 and 1, where:<br>\n",
    "\n",
    "\n",
    "1 indicates a perfect positive correlation (as one variable increases, the other also increases),<br>\n",
    "\n",
    "−1 indicates a perfect negative correlation (as one variable increases, the other decreases),<br>\n",
    "\n",
    "0 indicates no correlation.<br>"
   ]
  },
  {
   "cell_type": "code",
   "execution_count": 8,
   "id": "d7004ff5",
   "metadata": {},
   "outputs": [
    {
     "data": {
      "image/png": "[encoded data removed]",
      "text/plain": [
       "<Figure size 432x288 with 1 Axes>"
      ]
     },
     "metadata": {
      "needs_background": "light"
     },
     "output_type": "display_data"
    }
   ],
   "source": [
    "# Import necessary libraries\n",
    "import numpy as np\n",
    "import matplotlib.pyplot as plt\n",
    "\n",
    "# Create a dataset with two variables\n",
    "np.random.seed(42)\n",
    "x = np.random.rand(50) * 10  # Random values for variable x\n",
    "y = 2 * x + 1 + np.random.randn(50) * 2  # Linear relationship with some random noise\n",
    "\n",
    "# Calculate the correlation coefficient\n",
    "correlation_coefficient = np.corrcoef(x, y)[0, 1]\n",
    "\n",
    "# Plot the dataset\n",
    "plt.scatter(x, y, label=f'Correlation: {correlation_coefficient:.2f}')\n",
    "plt.title('Scatter Plot with Correlation')\n",
    "plt.xlabel('Variable X')\n",
    "plt.ylabel('Variable Y')\n",
    "plt.legend()\n",
    "plt.show()\n"
   ]
  },
  {
   "cell_type": "markdown",
   "id": "13352749",
   "metadata": {},
   "source": [
    "When you run this code, it will generate a scatter plot with points scattered around a line. The correlation coefficient will indicate the strength and direction of the linear relationship. In this case, since \n",
    "y is directly proportional to x, you should see a positive correlation. The correlation coefficient will be close to 1, indicating a strong positive correlation."
   ]
  },
  {
   "cell_type": "markdown",
   "id": "5fe245a7",
   "metadata": {},
   "source": []
  }
 ],
 "metadata": {
  "kernelspec": {
   "display_name": "Python 3 (ipykernel)",
   "language": "python",
   "name": "python3"
  },
  "language_info": {
   "codemirror_mode": {
    "name": "ipython",
    "version": 3
   },
   "file_extension": ".py",
   "mimetype": "text/x-python",
   "name": "python",
   "nbconvert_exporter": "python",
   "pygments_lexer": "ipython3",
   "version": "3.9.7"
  }
 },
 "nbformat": 4,
 "nbformat_minor": 5
}
