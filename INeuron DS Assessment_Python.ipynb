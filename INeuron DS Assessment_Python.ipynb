{
 "cells": [
  {
   "cell_type": "markdown",
   "id": "2b2afad2",
   "metadata": {},
   "source": [
    "# Python"
   ]
  },
  {
   "cell_type": "markdown",
   "id": "1d61c1cc",
   "metadata": {},
   "source": [
    "__Question: 1__\n",
    "\n",
    "\n",
    "You have an input dictionary given,<br>\n",
    "\n",
    "input_dict = {\"abc\":{\"def\":{\"ghi\":{\"jkl\":{\"mno\":{\"pqr\":{\"stu\":{\"vwx\":{\"yz\":\"you are finally here !!!\"}}}}}}}}}<br>\n",
    "\n",
    "Task:  You have to write a Python function that will take this input and print it like that,<br>\n",
    "\n",
    "output = {\"abc\":[\"def\",\"ghi\",\"jkl\",\"mno\",\"pqr\",\"stu\",\"vwx\",\"yz\"],<br>\n",
    " \"def\":[\"ghi\",\"jkl\",\"mno\",\"pqr\",\"stu\",\"vwx\",\"yz\"],<br>\n",
    " \"ghi\":[\"jkl\",\"mno\",\"pqr\",\"stu\",\"vwx\",\"yz\"],<br>\n",
    " \"jkl\":[\"mno\",\"pqr\",\"stu\",\"vwx\",\"yz\"],<br>\n",
    " \"mno\":[\"pqr\",\"stu\",\"vwx\",\"yz\"],<br>\n",
    " \"pqr\":[\"stu\",\"vwx\",\"yz\"],<br>\n",
    " \"stu\":[\"vwx\",\"yz\"],<br>\n",
    " \"vwx\":[\"yz\"],<br>\n",
    " \"yz\":[\"you are finally here !!!\"]}<br>\n",
    "\n"
   ]
  },
  {
   "cell_type": "code",
   "execution_count": 17,
   "id": "9b3633b6",
   "metadata": {},
   "outputs": [
    {
     "name": "stdout",
     "output_type": "stream",
     "text": [
      "{'abc': ['def', 'ghi', 'jkl', 'mno', 'pqr', 'stu', 'vwx', 'yz'], 'def': ['ghi', 'jkl', 'mno', 'pqr', 'stu', 'vwx', 'yz'], 'ghi': ['jkl', 'mno', 'pqr', 'stu', 'vwx', 'yz'], 'jkl': ['mno', 'pqr', 'stu', 'vwx', 'yz'], 'mno': ['pqr', 'stu', 'vwx', 'yz'], 'pqr': ['stu', 'vwx', 'yz'], 'stu': ['vwx', 'yz'], 'vwx': ['yz'], 'yz': ['you are finally here !!!']}\n"
     ]
    }
   ],
   "source": [
    "def transform_dict(input_dict):\n",
    "    output = {}\n",
    "    keys = []\n",
    "    while isinstance(input_dict, dict):\n",
    "        key, input_dict = list(input_dict.items())[0]\n",
    "        keys.append(key)\n",
    "        for i in range(len(keys)):\n",
    "            output[keys[i]] = keys[i+1:] \n",
    "            if keys[i]=='yz':\n",
    "                output[keys[i]] = [input_dict] if not isinstance(input_dict, dict) else []\n",
    "    return output\n",
    "\n",
    "input_dict = {\"abc\":{\"def\":{\"ghi\":{\"jkl\":{\"mno\":{\"pqr\":{\"stu\":{\"vwx\":{\"yz\":\"you are finally here !!!\"}}}}}}}}}\n",
    "print(transform_dict(input_dict))\n",
    "\n",
    "    \n",
    "\n"
   ]
  },
  {
   "cell_type": "markdown",
   "id": "4b9b05c5",
   "metadata": {},
   "source": [
    "# __Question: 2__\n",
    "\n",
    "\n",
    "Given an array of length ‘N’, where each element denotes the position of a stall. Now you have ‘N’ stalls and an integer ‘K’ which denotes the number of horses that are mad. To prevent the horses from hurting each other, you need to assign the horses to the stalls, such that the minimum distance between any two of them is as large as possible. Return the largest minimum distance.\n",
    "\n",
    "array: 1,2,4,8,9  &  k=3\n",
    "\n",
    "O/P: 3\n",
    "\n",
    "Explanation: 1st horse at stall 1, 2nd horse at stall 4 and 3rd horse at stall 8"
   ]
  },
  {
   "cell_type": "code",
   "execution_count": 19,
   "id": "f8ca9146",
   "metadata": {},
   "outputs": [
    {
     "name": "stdout",
     "output_type": "stream",
     "text": [
      "3\n"
     ]
    }
   ],
   "source": [
    "def can_place_horses(stalls, k, min_distance):\n",
    "    count = 1\n",
    "    last_position = stalls[0]\n",
    "\n",
    "    for stall in stalls[1:]:\n",
    "        if stall - last_position >= min_distance:\n",
    "            count += 1\n",
    "            last_position = stall\n",
    "\n",
    "    return count >= k\n",
    "\n",
    "def largest_minimum_distance(stalls, k):\n",
    "    stalls.sort()\n",
    "\n",
    "    low, high = 0, stalls[-1] - stalls[0]\n",
    "\n",
    "    while low < high:\n",
    "        mid = (low + high) // 2\n",
    "\n",
    "        if can_place_horses(stalls, k, mid):\n",
    "            low = mid + 1\n",
    "        else:\n",
    "            high = mid\n",
    "\n",
    "    return low - 1\n",
    "\n",
    "\n",
    "stalls = [1, 2, 4, 8, 9]\n",
    "k = 3\n",
    "result = largest_minimum_distance(stalls, k)\n",
    "print(result)\n"
   ]
  },
  {
   "cell_type": "markdown",
   "id": "00dfd5d3",
   "metadata": {},
   "source": [
    "__Question 3__ \n",
    "Mr. Karthiken works in a door mat manufacturing company. One day, he designed a new door mat with the following specifications:<br>\n",
    "\n",
    "             a) Mat size must be N X M. (N is an odd natural number, and M is 3 times N.)\n",
    "              b) The design should have ‘WELCOME’ written in the center.\n",
    "              c) The design pattern should only use |, . and – characters.\n",
    "\n",
    "    Sample Design is given above image, Write a python code for this."
   ]
  },
  {
   "cell_type": "code",
   "execution_count": 21,
   "id": "8c57c93e",
   "metadata": {},
   "outputs": [
    {
     "name": "stdout",
     "output_type": "stream",
     "text": [
      "---------------.|.---------------\n",
      "------------.|..|..|.------------\n",
      "---------.|..|..|..|..|.---------\n",
      "------.|..|..|..|..|..|..|.------\n",
      "---.|..|..|..|..|..|..|..|..|.---\n",
      "-------------WELCOME-------------\n",
      "---.|..|..|..|..|..|..|..|..|.---\n",
      "------.|..|..|..|..|..|..|.------\n",
      "---------.|..|..|..|..|.---------\n",
      "------------.|..|..|.------------\n",
      "---------------.|.---------------\n"
     ]
    }
   ],
   "source": [
    "def print_door_mat(n, m):\n",
    "    pattern = \".|.\"\n",
    "    welcome = \"WELCOME\"\n",
    "\n",
    "    for i in range(1, n, 2):\n",
    "        line = (pattern * i).center(m, \"-\")\n",
    "        print(line)\n",
    "\n",
    "\n",
    "    welcome_line = welcome.center(m, \"-\")\n",
    "    print(welcome_line)\n",
    "\n",
    "   \n",
    "    for i in range(n - 2, 0, -2):\n",
    "        line = (pattern * i).center(m, \"-\")\n",
    "        print(line)\n",
    "\n",
    "# Example usage with N=11 (an odd natural number)\n",
    "N = 11\n",
    "M = 3 * N\n",
    "print_door_mat(N, M)\n"
   ]
  },
  {
   "cell_type": "markdown",
   "id": "ac84ccb4",
   "metadata": {},
   "source": [
    "\n",
    "__Question: 4__\n",
    "\n",
    "Given an array nums of n integers, return an array of all the unique quadruplets [nums[a], nums[b], nums[c], nums[d]] such that:<br>\n",
    "\n",
    "   a) 0 <= a, b, c, d < n<br>\n",
    "   b) a, b, c, and d are distinct.<br>\n",
    "   c) nums[a] + nums[b] + nums[c] + nums[d] == target<br>"
   ]
  },
  {
   "cell_type": "code",
   "execution_count": 26,
   "id": "9eb564e3",
   "metadata": {},
   "outputs": [
    {
     "name": "stdout",
     "output_type": "stream",
     "text": [
      "[[-2, -1, 1, 2], [-2, 0, 0, 2], [-1, 0, 0, 1]]\n"
     ]
    }
   ],
   "source": [
    "def fourSum(nums, target):\n",
    "    def findNsum(l, r, target, N, result, results):\n",
    "        if r-l+1 < N or N < 2 or target < nums[l]*N or target > nums[r]*N:  # early termination\n",
    "            return\n",
    "        if N == 2:  # two pointers solve sorted 2-sum problem\n",
    "            while l < r:\n",
    "                s = nums[l] + nums[r]\n",
    "                if s == target:\n",
    "                    results.append(result + [nums[l], nums[r]])\n",
    "                    l += 1\n",
    "                    while l < r and nums[l] == nums[l-1]:\n",
    "                        l += 1\n",
    "                elif s < target:\n",
    "                    l += 1\n",
    "                else:\n",
    "                    r -= 1\n",
    "        else:  # recursively reduce N\n",
    "            for i in range(l, r+1):\n",
    "                if i == l or (i > l and nums[i-1] != nums[i]):\n",
    "                    findNsum(i+1, r, target-nums[i], N-1, result+[nums[i]], results)\n",
    "\n",
    "    nums.sort()\n",
    "    results = []\n",
    "    findNsum(0, len(nums)-1, target, 4, [], results)\n",
    "    return results\n",
    "    \n",
    "arr = [1,0,-1,0,-2,2]\n",
    "target = 0\n",
    "print(fourSum(arr, target))"
   ]
  },
  {
   "cell_type": "code",
   "execution_count": null,
   "id": "569fe14d",
   "metadata": {},
   "outputs": [],
   "source": []
  },
  {
   "cell_type": "code",
   "execution_count": null,
   "id": "88bbf2ce",
   "metadata": {},
   "outputs": [],
   "source": []
  }
 ],
 "metadata": {
  "kernelspec": {
   "display_name": "Python 3 (ipykernel)",
   "language": "python",
   "name": "python3"
  },
  "language_info": {
   "codemirror_mode": {
    "name": "ipython",
    "version": 3
   },
   "file_extension": ".py",
   "mimetype": "text/x-python",
   "name": "python",
   "nbconvert_exporter": "python",
   "pygments_lexer": "ipython3",
   "version": "3.9.7"
  }
 },
 "nbformat": 4,
 "nbformat_minor": 5
}
